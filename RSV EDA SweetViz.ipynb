{
 "cells": [
  {
   "cell_type": "code",
   "execution_count": 17,
   "id": "ec1b17b6",
   "metadata": {},
   "outputs": [],
   "source": [
    "#pip install sweetviz\n"
   ]
  },
  {
   "cell_type": "code",
   "execution_count": 18,
   "id": "de3b9ecd",
   "metadata": {},
   "outputs": [],
   "source": [
    "# Libraries to help with reading and manipulating data\n",
    "import pandas as pd\n",
    "import numpy as np\n",
    "import sweetviz as sv\n",
    "import seaborn as sns\n",
    "import matplotlib.pyplot as plt"
   ]
  },
  {
   "cell_type": "code",
   "execution_count": 19,
   "id": "18d04507",
   "metadata": {},
   "outputs": [],
   "source": [
    "#Establish File Path - User Specific\n",
    "file_path = r\"RSV_data.csv\""
   ]
  },
  {
   "cell_type": "code",
   "execution_count": 20,
   "id": "b4dd8bd7",
   "metadata": {},
   "outputs": [],
   "source": [
    "#Read in CSV of interest USE FERRARI because data sets can be very long\n",
    "df = pd.read_csv(file_path,  low_memory=False)"
   ]
  },
  {
   "cell_type": "code",
   "execution_count": 21,
   "id": "e1d346cf",
   "metadata": {},
   "outputs": [
    {
     "data": {
      "text/plain": [
       "(13806, 8)"
      ]
     },
     "execution_count": 21,
     "metadata": {},
     "output_type": "execute_result"
    }
   ],
   "source": [
    "df.shape"
   ]
  },
  {
   "cell_type": "code",
   "execution_count": 22,
   "id": "f4886bc8",
   "metadata": {},
   "outputs": [
    {
     "data": {
      "text/plain": [
       "array(['state', 'season', 'week_ending_date', 'age_category', 'sex',\n",
       "       'race', 'rate', 'cumulative_rate'], dtype=object)"
      ]
     },
     "execution_count": 22,
     "metadata": {},
     "output_type": "execute_result"
    }
   ],
   "source": [
    "df.columns.values"
   ]
  },
  {
   "cell_type": "code",
   "execution_count": 23,
   "id": "99ab6b44",
   "metadata": {},
   "outputs": [
    {
     "name": "stdout",
     "output_type": "stream",
     "text": [
      "Categorical variables:\n",
      "state\n",
      "season\n",
      "week_ending_date\n",
      "age_category\n",
      "sex\n",
      "race\n"
     ]
    }
   ],
   "source": [
    "# Finding all Categorical Variables\n",
    "categorical_vars = []\n",
    "\n",
    "# Iterate over each column in the DataFrame\n",
    "for column in df.columns:\n",
    "    # Check if the column data type is non-numeric\n",
    "    if not pd.api.types.is_numeric_dtype(df[column]):\n",
    "        categorical_vars.append(column)\n",
    "\n",
    "print(\"Categorical variables:\")\n",
    "for var in categorical_vars:\n",
    "    print(var)"
   ]
  },
  {
   "cell_type": "code",
   "execution_count": 24,
   "id": "5ac307ce",
   "metadata": {},
   "outputs": [
    {
     "name": "stdout",
     "output_type": "stream",
     "text": [
      "<class 'pandas.core.frame.DataFrame'>\n",
      "RangeIndex: 13806 entries, 0 to 13805\n",
      "Data columns (total 8 columns):\n",
      " #   Column            Non-Null Count  Dtype  \n",
      "---  ------            --------------  -----  \n",
      " 0   state             13806 non-null  object \n",
      " 1   season            13806 non-null  object \n",
      " 2   week_ending_date  13806 non-null  object \n",
      " 3   age_category      13806 non-null  object \n",
      " 4   sex               13806 non-null  object \n",
      " 5   race              13806 non-null  object \n",
      " 6   rate              13806 non-null  float64\n",
      " 7   cumulative_rate   13806 non-null  float64\n",
      "dtypes: float64(2), object(6)\n",
      "memory usage: 863.0+ KB\n"
     ]
    }
   ],
   "source": [
    "df.info()"
   ]
  },
  {
   "cell_type": "code",
   "execution_count": 25,
   "id": "b51fffa6",
   "metadata": {},
   "outputs": [],
   "source": [
    "import pandas as pd\n",
    "\n",
    "# Convert 'Appt Dttm' column to DateTime format\n",
    "df['week_ending_date'] = pd.to_datetime(df['week_ending_date'])#, format= '%YYYY-MM-dd%') \n",
    "#df['week_ending_date'] = df['week_ending_date'].dt.date #"
   ]
  },
  {
   "cell_type": "code",
   "execution_count": 26,
   "id": "76309f73",
   "metadata": {},
   "outputs": [
    {
     "data": {
      "text/plain": [
       "Timestamp('2024-02-17 00:00:00')"
      ]
     },
     "execution_count": 26,
     "metadata": {},
     "output_type": "execute_result"
    }
   ],
   "source": [
    "df['week_ending_date'].max()"
   ]
  },
  {
   "cell_type": "code",
   "execution_count": 27,
   "id": "26493613",
   "metadata": {
    "scrolled": true
   },
   "outputs": [
    {
     "name": "stderr",
     "output_type": "stream",
     "text": [
      "Done! Use 'show' commands to display/save.   |██████████| [100%]   00:00 -> (00:00 left)\n"
     ]
    }
   ],
   "source": [
    "#analyzing the dataset\n",
    "df_analyzed = sv.analyze(df)\n"
   ]
  },
  {
   "cell_type": "code",
   "execution_count": 28,
   "id": "f3d60d39",
   "metadata": {},
   "outputs": [
    {
     "name": "stdout",
     "output_type": "stream",
     "text": [
      "Report Radiology_EDA.html was generated! NOTEBOOK/COLAB USERS: the web browser MAY not pop up, regardless, the report IS saved in your notebook/colab files.\n"
     ]
    }
   ],
   "source": [
    "#display the report\n",
    "df_analyzed.show_html('Radiology_EDA.html')"
   ]
  },
  {
   "cell_type": "code",
   "execution_count": 29,
   "id": "6ef348d6",
   "metadata": {},
   "outputs": [
    {
     "data": {
      "text/plain": [
       "array(['5-17 years', '6mo-<12 months', '0-4 years', '0-<6 months',\n",
       "       '1-<2 years', '0-17 years (Children)', '1-4 years', '0-<1 year',\n",
       "       '12-17 years', '5-11 years', '2-4 years'], dtype=object)"
      ]
     },
     "execution_count": 29,
     "metadata": {},
     "output_type": "execute_result"
    }
   ],
   "source": [
    "df['age_category'].unique()"
   ]
  },
  {
   "attachments": {},
   "cell_type": "markdown",
   "id": "39d763d3",
   "metadata": {},
   "source": [
    "Assessing hierarchal row relationships in data"
   ]
  },
  {
   "cell_type": "code",
   "execution_count": 30,
   "id": "c97a4987",
   "metadata": {},
   "outputs": [
    {
     "name": "stdout",
     "output_type": "stream",
     "text": [
      "             age_category       rate  row_count\n",
      "3             0-<6 months  32.571447        767\n",
      "2               0-<1 year  25.049153        767\n",
      "10         6mo-<12 months  17.533507        767\n",
      "5              1-<2 years  10.781226        767\n",
      "1               0-4 years   9.364928        767\n",
      "4               1-4 years   5.452412        767\n",
      "7               2-4 years   3.749153        767\n",
      "0   0-17 years (Children)   2.670160       6136\n",
      "8              5-11 years   0.439374        767\n",
      "9              5-17 years   0.284224        767\n",
      "6             12-17 years   0.121773        767\n"
     ]
    }
   ],
   "source": [
    "#df.groupby('age_category')['rate'].mean().sort_values(ascending=False)\n",
    "grouped_data = df.groupby('age_category').agg({\n",
    "    'rate': 'mean',\n",
    "    'age_category': 'size'  # Using 'age_category' here just to count rows\n",
    "}).rename(columns={'age_category': 'row_count'}).reset_index()\n",
    "\n",
    "# Sort by descending mean rate\n",
    "grouped_data = grouped_data.sort_values(by='rate', ascending=False)\n",
    "print(grouped_data)\n"
   ]
  },
  {
   "cell_type": "code",
   "execution_count": 31,
   "id": "02e7491e",
   "metadata": {},
   "outputs": [],
   "source": [
    "filter = ['0-<1 year','1-4 years', '5-11 years', '12-17 years']"
   ]
  },
  {
   "attachments": {},
   "cell_type": "markdown",
   "id": "6f71fa1a",
   "metadata": {},
   "source": [
    "Filter to top level data"
   ]
  },
  {
   "cell_type": "code",
   "execution_count": 32,
   "id": "c418905f",
   "metadata": {},
   "outputs": [],
   "source": [
    "query_string = \"(`age_category` in @filter)\""
   ]
  },
  {
   "cell_type": "code",
   "execution_count": 33,
   "id": "490b779f",
   "metadata": {},
   "outputs": [],
   "source": [
    "df = df.query(query_string)"
   ]
  },
  {
   "cell_type": "code",
   "execution_count": 34,
   "id": "a5f583a0",
   "metadata": {},
   "outputs": [
    {
     "data": {
      "text/plain": [
       "array(['1-4 years', '0-<1 year', '12-17 years', '5-11 years'],\n",
       "      dtype=object)"
      ]
     },
     "execution_count": 34,
     "metadata": {},
     "output_type": "execute_result"
    }
   ],
   "source": [
    "df['age_category'].unique()\n"
   ]
  },
  {
   "cell_type": "code",
   "execution_count": 35,
   "id": "2be2f26d",
   "metadata": {},
   "outputs": [
    {
     "data": {
      "text/plain": [
       "(3068, 8)"
      ]
     },
     "execution_count": 35,
     "metadata": {},
     "output_type": "execute_result"
    }
   ],
   "source": [
    "#Dimension of the dataframe (rows x columns)\n",
    "df.shape"
   ]
  },
  {
   "attachments": {},
   "cell_type": "markdown",
   "id": "e9a9731b",
   "metadata": {},
   "source": [
    "DF Columns are in tact. Rows shortened."
   ]
  },
  {
   "cell_type": "code",
   "execution_count": 36,
   "id": "5042278f",
   "metadata": {},
   "outputs": [
    {
     "name": "stdout",
     "output_type": "stream",
     "text": [
      "Binary variables:\n",
      "sex\n",
      "race\n"
     ]
    }
   ],
   "source": [
    "# Finding Binary Variables\n",
    "one_value_vars = []\n",
    "\n",
    "# Iterate over each column in the DataFrame\n",
    "for column in df.columns:\n",
    "    # Check if the column has only two unique values\n",
    "    unique_values = df[column].unique()\n",
    "    if len(unique_values) < 2:\n",
    "        one_value_vars.append(column)\n",
    "\n",
    "print(\"Binary variables:\")\n",
    "for var in one_value_vars:\n",
    "    print(var)"
   ]
  },
  {
   "cell_type": "code",
   "execution_count": 37,
   "id": "aadf0f98",
   "metadata": {},
   "outputs": [],
   "source": [
    "df.drop(columns = ['sex','race'], inplace=True)"
   ]
  },
  {
   "cell_type": "code",
   "execution_count": 38,
   "id": "9a8f2783",
   "metadata": {},
   "outputs": [],
   "source": [
    "df['week_ending_date'] = pd.to_datetime(df['week_ending_date'])"
   ]
  },
  {
   "cell_type": "code",
   "execution_count": 53,
   "id": "6766eaca",
   "metadata": {},
   "outputs": [
    {
     "data": {
      "text/html": [
       "<div>\n",
       "<style scoped>\n",
       "    .dataframe tbody tr th:only-of-type {\n",
       "        vertical-align: middle;\n",
       "    }\n",
       "\n",
       "    .dataframe tbody tr th {\n",
       "        vertical-align: top;\n",
       "    }\n",
       "\n",
       "    .dataframe thead th {\n",
       "        text-align: right;\n",
       "    }\n",
       "</style>\n",
       "<table border=\"1\" class=\"dataframe\">\n",
       "  <thead>\n",
       "    <tr style=\"text-align: right;\">\n",
       "      <th></th>\n",
       "      <th>state</th>\n",
       "      <th>season</th>\n",
       "      <th>week_ending_date</th>\n",
       "      <th>age_category</th>\n",
       "      <th>rate</th>\n",
       "      <th>cumulative_rate</th>\n",
       "      <th>month_year</th>\n",
       "      <th>week_number</th>\n",
       "      <th>month</th>\n",
       "      <th>year</th>\n",
       "    </tr>\n",
       "  </thead>\n",
       "  <tbody>\n",
       "    <tr>\n",
       "      <th>9971</th>\n",
       "      <td>Minnesota</td>\n",
       "      <td>2022-23</td>\n",
       "      <td>2023-01-07</td>\n",
       "      <td>1-4 years</td>\n",
       "      <td>2.0</td>\n",
       "      <td>361.5</td>\n",
       "      <td>2023-01</td>\n",
       "      <td>1</td>\n",
       "      <td>1</td>\n",
       "      <td>2023</td>\n",
       "    </tr>\n",
       "    <tr>\n",
       "      <th>9972</th>\n",
       "      <td>Tennessee</td>\n",
       "      <td>2022-23</td>\n",
       "      <td>2023-01-07</td>\n",
       "      <td>1-4 years</td>\n",
       "      <td>3.4</td>\n",
       "      <td>74.4</td>\n",
       "      <td>2023-01</td>\n",
       "      <td>1</td>\n",
       "      <td>1</td>\n",
       "      <td>2023</td>\n",
       "    </tr>\n",
       "    <tr>\n",
       "      <th>9973</th>\n",
       "      <td>RSV-NET</td>\n",
       "      <td>2022-23</td>\n",
       "      <td>2023-01-07</td>\n",
       "      <td>1-4 years</td>\n",
       "      <td>5.2</td>\n",
       "      <td>315.1</td>\n",
       "      <td>2023-01</td>\n",
       "      <td>1</td>\n",
       "      <td>1</td>\n",
       "      <td>2023</td>\n",
       "    </tr>\n",
       "    <tr>\n",
       "      <th>9974</th>\n",
       "      <td>Colorado</td>\n",
       "      <td>2022-23</td>\n",
       "      <td>2023-01-07</td>\n",
       "      <td>1-4 years</td>\n",
       "      <td>13.1</td>\n",
       "      <td>768.1</td>\n",
       "      <td>2023-01</td>\n",
       "      <td>1</td>\n",
       "      <td>1</td>\n",
       "      <td>2023</td>\n",
       "    </tr>\n",
       "    <tr>\n",
       "      <th>9975</th>\n",
       "      <td>Michigan</td>\n",
       "      <td>2022-23</td>\n",
       "      <td>2023-01-07</td>\n",
       "      <td>1-4 years</td>\n",
       "      <td>6.0</td>\n",
       "      <td>408.7</td>\n",
       "      <td>2023-01</td>\n",
       "      <td>1</td>\n",
       "      <td>1</td>\n",
       "      <td>2023</td>\n",
       "    </tr>\n",
       "  </tbody>\n",
       "</table>\n",
       "</div>"
      ],
      "text/plain": [
       "          state   season week_ending_date age_category  rate  cumulative_rate  \\\n",
       "9971  Minnesota  2022-23       2023-01-07    1-4 years   2.0            361.5   \n",
       "9972  Tennessee  2022-23       2023-01-07    1-4 years   3.4             74.4   \n",
       "9973    RSV-NET  2022-23       2023-01-07    1-4 years   5.2            315.1   \n",
       "9974   Colorado  2022-23       2023-01-07    1-4 years  13.1            768.1   \n",
       "9975   Michigan  2022-23       2023-01-07    1-4 years   6.0            408.7   \n",
       "\n",
       "     month_year  week_number  month  year  \n",
       "9971    2023-01            1      1  2023  \n",
       "9972    2023-01            1      1  2023  \n",
       "9973    2023-01            1      1  2023  \n",
       "9974    2023-01            1      1  2023  \n",
       "9975    2023-01            1      1  2023  "
      ]
     },
     "execution_count": 53,
     "metadata": {},
     "output_type": "execute_result"
    }
   ],
   "source": [
    "df['month_year'] = df['week_ending_date'].dt.strftime('%Y-%m')\n",
    "df.head()"
   ]
  },
  {
   "cell_type": "code",
   "execution_count": 54,
   "id": "bf5528d9",
   "metadata": {},
   "outputs": [],
   "source": [
    "avg_rate_by_month_year_age = df.groupby(['month_year', 'age_category'])['rate'].mean().reset_index()\n"
   ]
  },
  {
   "cell_type": "code",
   "execution_count": 55,
   "id": "0f54ae70",
   "metadata": {},
   "outputs": [
    {
     "data": {
      "text/html": [
       "<div>\n",
       "<style scoped>\n",
       "    .dataframe tbody tr th:only-of-type {\n",
       "        vertical-align: middle;\n",
       "    }\n",
       "\n",
       "    .dataframe tbody tr th {\n",
       "        vertical-align: top;\n",
       "    }\n",
       "\n",
       "    .dataframe thead th {\n",
       "        text-align: right;\n",
       "    }\n",
       "</style>\n",
       "<table border=\"1\" class=\"dataframe\">\n",
       "  <thead>\n",
       "    <tr style=\"text-align: right;\">\n",
       "      <th></th>\n",
       "      <th>month_year</th>\n",
       "      <th>age_category</th>\n",
       "      <th>rate</th>\n",
       "    </tr>\n",
       "  </thead>\n",
       "  <tbody>\n",
       "    <tr>\n",
       "      <th>0</th>\n",
       "      <td>2023-01</td>\n",
       "      <td>0-&lt;1 year</td>\n",
       "      <td>25.784615</td>\n",
       "    </tr>\n",
       "    <tr>\n",
       "      <th>1</th>\n",
       "      <td>2023-01</td>\n",
       "      <td>1-4 years</td>\n",
       "      <td>4.796154</td>\n",
       "    </tr>\n",
       "    <tr>\n",
       "      <th>2</th>\n",
       "      <td>2023-01</td>\n",
       "      <td>12-17 years</td>\n",
       "      <td>0.215385</td>\n",
       "    </tr>\n",
       "    <tr>\n",
       "      <th>3</th>\n",
       "      <td>2023-01</td>\n",
       "      <td>5-11 years</td>\n",
       "      <td>0.284615</td>\n",
       "    </tr>\n",
       "    <tr>\n",
       "      <th>4</th>\n",
       "      <td>2023-02</td>\n",
       "      <td>0-&lt;1 year</td>\n",
       "      <td>10.728846</td>\n",
       "    </tr>\n",
       "  </tbody>\n",
       "</table>\n",
       "</div>"
      ],
      "text/plain": [
       "  month_year age_category       rate\n",
       "0    2023-01    0-<1 year  25.784615\n",
       "1    2023-01    1-4 years   4.796154\n",
       "2    2023-01  12-17 years   0.215385\n",
       "3    2023-01   5-11 years   0.284615\n",
       "4    2023-02    0-<1 year  10.728846"
      ]
     },
     "execution_count": 55,
     "metadata": {},
     "output_type": "execute_result"
    }
   ],
   "source": [
    "avg_rate_by_month_year_age.head()"
   ]
  },
  {
   "cell_type": "code",
   "execution_count": 56,
   "id": "7e0e0595",
   "metadata": {},
   "outputs": [
    {
     "name": "stderr",
     "output_type": "stream",
     "text": [
      "C:\\Users\\jeanne.chrisanthopou\\AppData\\Local\\Temp\\ipykernel_29752\\2577720850.py:4: FutureWarning: \n",
      "\n",
      "The `ci` parameter is deprecated. Use `errorbar=None` for the same effect.\n",
      "\n",
      "  sns.barplot(data=avg_rate_by_month_year_age, x='month_year', y='rate', hue='age_category', palette='Set2', linewidth=2.5, ci=None)\n"
     ]
    },
    {
     "data": {
      "image/png": "[encoded data removed]",
      "text/plain": [
       "<Figure size 1200x600 with 1 Axes>"
      ]
     },
     "metadata": {},
     "output_type": "display_data"
    }
   ],
   "source": [
    "# Plotting\n",
    "plt.figure(figsize=(12, 6))\n",
    "\n",
    "sns.barplot(data=avg_rate_by_month_year_age, x='month_year', y='rate', hue='age_category', palette='Set2', linewidth=2.5, ci=None)\n",
    "\n",
    "# Beautify the plot\n",
    "plt.title('Rate variation by month year, colored by age category ')\n",
    "plt.xlabel('Month_Year')\n",
    "plt.ylabel('Rate')\n",
    "plt.xticks(rotation=45)\n",
    "plt.legend(title='Age Category')\n",
    "\n",
    "plt.tight_layout()\n",
    "plt.show()"
   ]
  },
  {
   "cell_type": "code",
   "execution_count": 43,
   "id": "5f0e96de",
   "metadata": {},
   "outputs": [
    {
     "data": {
      "text/html": [
       "<div>\n",
       "<style scoped>\n",
       "    .dataframe tbody tr th:only-of-type {\n",
       "        vertical-align: middle;\n",
       "    }\n",
       "\n",
       "    .dataframe tbody tr th {\n",
       "        vertical-align: top;\n",
       "    }\n",
       "\n",
       "    .dataframe thead th {\n",
       "        text-align: right;\n",
       "    }\n",
       "</style>\n",
       "<table border=\"1\" class=\"dataframe\">\n",
       "  <thead>\n",
       "    <tr style=\"text-align: right;\">\n",
       "      <th></th>\n",
       "      <th>state</th>\n",
       "      <th>season</th>\n",
       "      <th>week_ending_date</th>\n",
       "      <th>age_category</th>\n",
       "      <th>rate</th>\n",
       "      <th>cumulative_rate</th>\n",
       "      <th>month_year</th>\n",
       "      <th>week_number</th>\n",
       "      <th>month</th>\n",
       "    </tr>\n",
       "  </thead>\n",
       "  <tbody>\n",
       "    <tr>\n",
       "      <th>9971</th>\n",
       "      <td>Minnesota</td>\n",
       "      <td>2022-23</td>\n",
       "      <td>2023-01-07</td>\n",
       "      <td>1-4 years</td>\n",
       "      <td>2.0</td>\n",
       "      <td>361.5</td>\n",
       "      <td>2023YYY-01m</td>\n",
       "      <td>1</td>\n",
       "      <td>1</td>\n",
       "    </tr>\n",
       "    <tr>\n",
       "      <th>9972</th>\n",
       "      <td>Tennessee</td>\n",
       "      <td>2022-23</td>\n",
       "      <td>2023-01-07</td>\n",
       "      <td>1-4 years</td>\n",
       "      <td>3.4</td>\n",
       "      <td>74.4</td>\n",
       "      <td>2023YYY-01m</td>\n",
       "      <td>1</td>\n",
       "      <td>1</td>\n",
       "    </tr>\n",
       "    <tr>\n",
       "      <th>9973</th>\n",
       "      <td>RSV-NET</td>\n",
       "      <td>2022-23</td>\n",
       "      <td>2023-01-07</td>\n",
       "      <td>1-4 years</td>\n",
       "      <td>5.2</td>\n",
       "      <td>315.1</td>\n",
       "      <td>2023YYY-01m</td>\n",
       "      <td>1</td>\n",
       "      <td>1</td>\n",
       "    </tr>\n",
       "    <tr>\n",
       "      <th>9974</th>\n",
       "      <td>Colorado</td>\n",
       "      <td>2022-23</td>\n",
       "      <td>2023-01-07</td>\n",
       "      <td>1-4 years</td>\n",
       "      <td>13.1</td>\n",
       "      <td>768.1</td>\n",
       "      <td>2023YYY-01m</td>\n",
       "      <td>1</td>\n",
       "      <td>1</td>\n",
       "    </tr>\n",
       "    <tr>\n",
       "      <th>9975</th>\n",
       "      <td>Michigan</td>\n",
       "      <td>2022-23</td>\n",
       "      <td>2023-01-07</td>\n",
       "      <td>1-4 years</td>\n",
       "      <td>6.0</td>\n",
       "      <td>408.7</td>\n",
       "      <td>2023YYY-01m</td>\n",
       "      <td>1</td>\n",
       "      <td>1</td>\n",
       "    </tr>\n",
       "  </tbody>\n",
       "</table>\n",
       "</div>"
      ],
      "text/plain": [
       "          state   season week_ending_date age_category  rate  cumulative_rate  \\\n",
       "9971  Minnesota  2022-23       2023-01-07    1-4 years   2.0            361.5   \n",
       "9972  Tennessee  2022-23       2023-01-07    1-4 years   3.4             74.4   \n",
       "9973    RSV-NET  2022-23       2023-01-07    1-4 years   5.2            315.1   \n",
       "9974   Colorado  2022-23       2023-01-07    1-4 years  13.1            768.1   \n",
       "9975   Michigan  2022-23       2023-01-07    1-4 years   6.0            408.7   \n",
       "\n",
       "       month_year  week_number  month  \n",
       "9971  2023YYY-01m            1      1  \n",
       "9972  2023YYY-01m            1      1  \n",
       "9973  2023YYY-01m            1      1  \n",
       "9974  2023YYY-01m            1      1  \n",
       "9975  2023YYY-01m            1      1  "
      ]
     },
     "execution_count": 43,
     "metadata": {},
     "output_type": "execute_result"
    }
   ],
   "source": [
    "df['week_number'] = df['week_ending_date'].dt.isocalendar().week\n",
    "df['month'] = df['week_ending_date'].dt.month\n",
    "\n",
    "df.head()\n"
   ]
  },
  {
   "cell_type": "code",
   "execution_count": 44,
   "id": "e79d5326",
   "metadata": {},
   "outputs": [
    {
     "name": "stdout",
     "output_type": "stream",
     "text": [
      "year\n",
      "2023    2704\n",
      "2024     364\n",
      "Name: count, dtype: int64\n"
     ]
    }
   ],
   "source": [
    "# Extract year from 'week_ending_date'\n",
    "df['year'] = df['week_ending_date'].dt.year\n",
    "\n",
    "# Count the number of weeks in each year\n",
    "weeks_per_year = df['year'].value_counts().sort_index()\n",
    "# Print the result\n",
    "print(weeks_per_year)"
   ]
  },
  {
   "cell_type": "code",
   "execution_count": 45,
   "id": "292c2aca",
   "metadata": {},
   "outputs": [
    {
     "data": {
      "text/html": [
       "<div>\n",
       "<style scoped>\n",
       "    .dataframe tbody tr th:only-of-type {\n",
       "        vertical-align: middle;\n",
       "    }\n",
       "\n",
       "    .dataframe tbody tr th {\n",
       "        vertical-align: top;\n",
       "    }\n",
       "\n",
       "    .dataframe thead th {\n",
       "        text-align: right;\n",
       "    }\n",
       "</style>\n",
       "<table border=\"1\" class=\"dataframe\">\n",
       "  <thead>\n",
       "    <tr style=\"text-align: right;\">\n",
       "      <th></th>\n",
       "      <th>season</th>\n",
       "      <th>week_number</th>\n",
       "    </tr>\n",
       "  </thead>\n",
       "  <tbody>\n",
       "    <tr>\n",
       "      <th>0</th>\n",
       "      <td>2022-23</td>\n",
       "      <td>39</td>\n",
       "    </tr>\n",
       "    <tr>\n",
       "      <th>1</th>\n",
       "      <td>2023-24</td>\n",
       "      <td>20</td>\n",
       "    </tr>\n",
       "  </tbody>\n",
       "</table>\n",
       "</div>"
      ],
      "text/plain": [
       "    season  week_number\n",
       "0  2022-23           39\n",
       "1  2023-24           20"
      ]
     },
     "execution_count": 45,
     "metadata": {},
     "output_type": "execute_result"
    }
   ],
   "source": [
    "#2024 has much less data. So lets visualize yoy\n",
    "uniq_week_by_season = df.groupby('season')['week_number'].nunique().reset_index()\n",
    "uniq_week_by_season\n"
   ]
  },
  {
   "cell_type": "code",
   "execution_count": 46,
   "id": "f0278bf1",
   "metadata": {},
   "outputs": [],
   "source": [
    "common_week_numbers = set(df[df['season'] == '2022-23']['week_number']).intersection(set(df[df['season'] == '2023-24']['week_number']))"
   ]
  },
  {
   "cell_type": "code",
   "execution_count": 47,
   "id": "c61bb27c",
   "metadata": {},
   "outputs": [
    {
     "data": {
      "text/plain": [
       "{1, 2, 3, 4, 5, 6, 7}"
      ]
     },
     "execution_count": 47,
     "metadata": {},
     "output_type": "execute_result"
    }
   ],
   "source": [
    "common_week_numbers"
   ]
  },
  {
   "cell_type": "code",
   "execution_count": 48,
   "id": "b2785b5d",
   "metadata": {},
   "outputs": [
    {
     "data": {
      "text/html": [
       "<div>\n",
       "<style scoped>\n",
       "    .dataframe tbody tr th:only-of-type {\n",
       "        vertical-align: middle;\n",
       "    }\n",
       "\n",
       "    .dataframe tbody tr th {\n",
       "        vertical-align: top;\n",
       "    }\n",
       "\n",
       "    .dataframe thead th {\n",
       "        text-align: right;\n",
       "    }\n",
       "</style>\n",
       "<table border=\"1\" class=\"dataframe\">\n",
       "  <thead>\n",
       "    <tr style=\"text-align: right;\">\n",
       "      <th></th>\n",
       "      <th>month</th>\n",
       "      <th>week_number</th>\n",
       "      <th>season</th>\n",
       "      <th>rate</th>\n",
       "    </tr>\n",
       "  </thead>\n",
       "  <tbody>\n",
       "    <tr>\n",
       "      <th>0</th>\n",
       "      <td>1</td>\n",
       "      <td>1</td>\n",
       "      <td>2022-23</td>\n",
       "      <td>10.076923</td>\n",
       "    </tr>\n",
       "    <tr>\n",
       "      <th>1</th>\n",
       "      <td>1</td>\n",
       "      <td>1</td>\n",
       "      <td>2023-24</td>\n",
       "      <td>30.123077</td>\n",
       "    </tr>\n",
       "    <tr>\n",
       "      <th>2</th>\n",
       "      <td>1</td>\n",
       "      <td>2</td>\n",
       "      <td>2022-23</td>\n",
       "      <td>8.398077</td>\n",
       "    </tr>\n",
       "    <tr>\n",
       "      <th>3</th>\n",
       "      <td>1</td>\n",
       "      <td>2</td>\n",
       "      <td>2023-24</td>\n",
       "      <td>17.869231</td>\n",
       "    </tr>\n",
       "    <tr>\n",
       "      <th>4</th>\n",
       "      <td>1</td>\n",
       "      <td>3</td>\n",
       "      <td>2022-23</td>\n",
       "      <td>6.855769</td>\n",
       "    </tr>\n",
       "    <tr>\n",
       "      <th>5</th>\n",
       "      <td>1</td>\n",
       "      <td>3</td>\n",
       "      <td>2023-24</td>\n",
       "      <td>15.176923</td>\n",
       "    </tr>\n",
       "    <tr>\n",
       "      <th>6</th>\n",
       "      <td>1</td>\n",
       "      <td>4</td>\n",
       "      <td>2022-23</td>\n",
       "      <td>5.750000</td>\n",
       "    </tr>\n",
       "    <tr>\n",
       "      <th>7</th>\n",
       "      <td>1</td>\n",
       "      <td>4</td>\n",
       "      <td>2023-24</td>\n",
       "      <td>13.161538</td>\n",
       "    </tr>\n",
       "    <tr>\n",
       "      <th>8</th>\n",
       "      <td>2</td>\n",
       "      <td>5</td>\n",
       "      <td>2022-23</td>\n",
       "      <td>3.219231</td>\n",
       "    </tr>\n",
       "    <tr>\n",
       "      <th>9</th>\n",
       "      <td>2</td>\n",
       "      <td>5</td>\n",
       "      <td>2023-24</td>\n",
       "      <td>11.782692</td>\n",
       "    </tr>\n",
       "    <tr>\n",
       "      <th>10</th>\n",
       "      <td>2</td>\n",
       "      <td>6</td>\n",
       "      <td>2022-23</td>\n",
       "      <td>3.276923</td>\n",
       "    </tr>\n",
       "    <tr>\n",
       "      <th>11</th>\n",
       "      <td>2</td>\n",
       "      <td>6</td>\n",
       "      <td>2023-24</td>\n",
       "      <td>10.255769</td>\n",
       "    </tr>\n",
       "    <tr>\n",
       "      <th>12</th>\n",
       "      <td>2</td>\n",
       "      <td>7</td>\n",
       "      <td>2022-23</td>\n",
       "      <td>4.150000</td>\n",
       "    </tr>\n",
       "    <tr>\n",
       "      <th>13</th>\n",
       "      <td>2</td>\n",
       "      <td>7</td>\n",
       "      <td>2023-24</td>\n",
       "      <td>6.823077</td>\n",
       "    </tr>\n",
       "    <tr>\n",
       "      <th>14</th>\n",
       "      <td>2</td>\n",
       "      <td>8</td>\n",
       "      <td>2022-23</td>\n",
       "      <td>2.540385</td>\n",
       "    </tr>\n",
       "    <tr>\n",
       "      <th>15</th>\n",
       "      <td>3</td>\n",
       "      <td>9</td>\n",
       "      <td>2022-23</td>\n",
       "      <td>1.925000</td>\n",
       "    </tr>\n",
       "    <tr>\n",
       "      <th>16</th>\n",
       "      <td>3</td>\n",
       "      <td>10</td>\n",
       "      <td>2022-23</td>\n",
       "      <td>1.836538</td>\n",
       "    </tr>\n",
       "    <tr>\n",
       "      <th>17</th>\n",
       "      <td>3</td>\n",
       "      <td>11</td>\n",
       "      <td>2022-23</td>\n",
       "      <td>1.817308</td>\n",
       "    </tr>\n",
       "    <tr>\n",
       "      <th>18</th>\n",
       "      <td>3</td>\n",
       "      <td>12</td>\n",
       "      <td>2022-23</td>\n",
       "      <td>1.813462</td>\n",
       "    </tr>\n",
       "    <tr>\n",
       "      <th>19</th>\n",
       "      <td>4</td>\n",
       "      <td>13</td>\n",
       "      <td>2022-23</td>\n",
       "      <td>0.869231</td>\n",
       "    </tr>\n",
       "    <tr>\n",
       "      <th>20</th>\n",
       "      <td>4</td>\n",
       "      <td>14</td>\n",
       "      <td>2022-23</td>\n",
       "      <td>1.180769</td>\n",
       "    </tr>\n",
       "    <tr>\n",
       "      <th>21</th>\n",
       "      <td>4</td>\n",
       "      <td>15</td>\n",
       "      <td>2022-23</td>\n",
       "      <td>0.855769</td>\n",
       "    </tr>\n",
       "    <tr>\n",
       "      <th>22</th>\n",
       "      <td>4</td>\n",
       "      <td>16</td>\n",
       "      <td>2022-23</td>\n",
       "      <td>0.921154</td>\n",
       "    </tr>\n",
       "    <tr>\n",
       "      <th>23</th>\n",
       "      <td>4</td>\n",
       "      <td>17</td>\n",
       "      <td>2022-23</td>\n",
       "      <td>0.671154</td>\n",
       "    </tr>\n",
       "    <tr>\n",
       "      <th>24</th>\n",
       "      <td>5</td>\n",
       "      <td>18</td>\n",
       "      <td>2022-23</td>\n",
       "      <td>1.094231</td>\n",
       "    </tr>\n",
       "    <tr>\n",
       "      <th>25</th>\n",
       "      <td>5</td>\n",
       "      <td>19</td>\n",
       "      <td>2022-23</td>\n",
       "      <td>0.244231</td>\n",
       "    </tr>\n",
       "    <tr>\n",
       "      <th>26</th>\n",
       "      <td>5</td>\n",
       "      <td>20</td>\n",
       "      <td>2022-23</td>\n",
       "      <td>0.294231</td>\n",
       "    </tr>\n",
       "    <tr>\n",
       "      <th>27</th>\n",
       "      <td>5</td>\n",
       "      <td>21</td>\n",
       "      <td>2022-23</td>\n",
       "      <td>0.363462</td>\n",
       "    </tr>\n",
       "    <tr>\n",
       "      <th>28</th>\n",
       "      <td>6</td>\n",
       "      <td>22</td>\n",
       "      <td>2022-23</td>\n",
       "      <td>0.332692</td>\n",
       "    </tr>\n",
       "    <tr>\n",
       "      <th>29</th>\n",
       "      <td>6</td>\n",
       "      <td>23</td>\n",
       "      <td>2022-23</td>\n",
       "      <td>0.840385</td>\n",
       "    </tr>\n",
       "    <tr>\n",
       "      <th>30</th>\n",
       "      <td>6</td>\n",
       "      <td>24</td>\n",
       "      <td>2022-23</td>\n",
       "      <td>0.344231</td>\n",
       "    </tr>\n",
       "    <tr>\n",
       "      <th>31</th>\n",
       "      <td>6</td>\n",
       "      <td>25</td>\n",
       "      <td>2022-23</td>\n",
       "      <td>0.332692</td>\n",
       "    </tr>\n",
       "    <tr>\n",
       "      <th>32</th>\n",
       "      <td>7</td>\n",
       "      <td>26</td>\n",
       "      <td>2022-23</td>\n",
       "      <td>0.278846</td>\n",
       "    </tr>\n",
       "    <tr>\n",
       "      <th>33</th>\n",
       "      <td>7</td>\n",
       "      <td>27</td>\n",
       "      <td>2022-23</td>\n",
       "      <td>0.101923</td>\n",
       "    </tr>\n",
       "    <tr>\n",
       "      <th>34</th>\n",
       "      <td>7</td>\n",
       "      <td>28</td>\n",
       "      <td>2022-23</td>\n",
       "      <td>0.161538</td>\n",
       "    </tr>\n",
       "    <tr>\n",
       "      <th>35</th>\n",
       "      <td>7</td>\n",
       "      <td>29</td>\n",
       "      <td>2022-23</td>\n",
       "      <td>0.565385</td>\n",
       "    </tr>\n",
       "    <tr>\n",
       "      <th>36</th>\n",
       "      <td>7</td>\n",
       "      <td>30</td>\n",
       "      <td>2022-23</td>\n",
       "      <td>0.507692</td>\n",
       "    </tr>\n",
       "    <tr>\n",
       "      <th>37</th>\n",
       "      <td>8</td>\n",
       "      <td>31</td>\n",
       "      <td>2022-23</td>\n",
       "      <td>0.403846</td>\n",
       "    </tr>\n",
       "    <tr>\n",
       "      <th>38</th>\n",
       "      <td>8</td>\n",
       "      <td>32</td>\n",
       "      <td>2022-23</td>\n",
       "      <td>0.646154</td>\n",
       "    </tr>\n",
       "    <tr>\n",
       "      <th>39</th>\n",
       "      <td>8</td>\n",
       "      <td>33</td>\n",
       "      <td>2022-23</td>\n",
       "      <td>1.157692</td>\n",
       "    </tr>\n",
       "    <tr>\n",
       "      <th>40</th>\n",
       "      <td>8</td>\n",
       "      <td>34</td>\n",
       "      <td>2022-23</td>\n",
       "      <td>0.875000</td>\n",
       "    </tr>\n",
       "    <tr>\n",
       "      <th>41</th>\n",
       "      <td>9</td>\n",
       "      <td>35</td>\n",
       "      <td>2022-23</td>\n",
       "      <td>1.975000</td>\n",
       "    </tr>\n",
       "    <tr>\n",
       "      <th>42</th>\n",
       "      <td>9</td>\n",
       "      <td>36</td>\n",
       "      <td>2022-23</td>\n",
       "      <td>2.032692</td>\n",
       "    </tr>\n",
       "    <tr>\n",
       "      <th>43</th>\n",
       "      <td>9</td>\n",
       "      <td>37</td>\n",
       "      <td>2022-23</td>\n",
       "      <td>2.150000</td>\n",
       "    </tr>\n",
       "    <tr>\n",
       "      <th>44</th>\n",
       "      <td>9</td>\n",
       "      <td>38</td>\n",
       "      <td>2022-23</td>\n",
       "      <td>4.484615</td>\n",
       "    </tr>\n",
       "    <tr>\n",
       "      <th>45</th>\n",
       "      <td>9</td>\n",
       "      <td>39</td>\n",
       "      <td>2022-23</td>\n",
       "      <td>3.684615</td>\n",
       "    </tr>\n",
       "    <tr>\n",
       "      <th>46</th>\n",
       "      <td>10</td>\n",
       "      <td>40</td>\n",
       "      <td>2023-24</td>\n",
       "      <td>6.386538</td>\n",
       "    </tr>\n",
       "    <tr>\n",
       "      <th>47</th>\n",
       "      <td>10</td>\n",
       "      <td>41</td>\n",
       "      <td>2023-24</td>\n",
       "      <td>8.632692</td>\n",
       "    </tr>\n",
       "    <tr>\n",
       "      <th>48</th>\n",
       "      <td>10</td>\n",
       "      <td>42</td>\n",
       "      <td>2023-24</td>\n",
       "      <td>11.267308</td>\n",
       "    </tr>\n",
       "    <tr>\n",
       "      <th>49</th>\n",
       "      <td>10</td>\n",
       "      <td>43</td>\n",
       "      <td>2023-24</td>\n",
       "      <td>12.828846</td>\n",
       "    </tr>\n",
       "    <tr>\n",
       "      <th>50</th>\n",
       "      <td>11</td>\n",
       "      <td>44</td>\n",
       "      <td>2023-24</td>\n",
       "      <td>13.492308</td>\n",
       "    </tr>\n",
       "    <tr>\n",
       "      <th>51</th>\n",
       "      <td>11</td>\n",
       "      <td>45</td>\n",
       "      <td>2023-24</td>\n",
       "      <td>18.282692</td>\n",
       "    </tr>\n",
       "    <tr>\n",
       "      <th>52</th>\n",
       "      <td>11</td>\n",
       "      <td>46</td>\n",
       "      <td>2023-24</td>\n",
       "      <td>20.092308</td>\n",
       "    </tr>\n",
       "    <tr>\n",
       "      <th>53</th>\n",
       "      <td>11</td>\n",
       "      <td>47</td>\n",
       "      <td>2023-24</td>\n",
       "      <td>24.359615</td>\n",
       "    </tr>\n",
       "    <tr>\n",
       "      <th>54</th>\n",
       "      <td>12</td>\n",
       "      <td>48</td>\n",
       "      <td>2023-24</td>\n",
       "      <td>29.901923</td>\n",
       "    </tr>\n",
       "    <tr>\n",
       "      <th>55</th>\n",
       "      <td>12</td>\n",
       "      <td>49</td>\n",
       "      <td>2023-24</td>\n",
       "      <td>28.238462</td>\n",
       "    </tr>\n",
       "    <tr>\n",
       "      <th>56</th>\n",
       "      <td>12</td>\n",
       "      <td>50</td>\n",
       "      <td>2023-24</td>\n",
       "      <td>30.840385</td>\n",
       "    </tr>\n",
       "    <tr>\n",
       "      <th>57</th>\n",
       "      <td>12</td>\n",
       "      <td>51</td>\n",
       "      <td>2023-24</td>\n",
       "      <td>34.184615</td>\n",
       "    </tr>\n",
       "    <tr>\n",
       "      <th>58</th>\n",
       "      <td>12</td>\n",
       "      <td>52</td>\n",
       "      <td>2023-24</td>\n",
       "      <td>35.446154</td>\n",
       "    </tr>\n",
       "  </tbody>\n",
       "</table>\n",
       "</div>"
      ],
      "text/plain": [
       "    month  week_number   season       rate\n",
       "0       1            1  2022-23  10.076923\n",
       "1       1            1  2023-24  30.123077\n",
       "2       1            2  2022-23   8.398077\n",
       "3       1            2  2023-24  17.869231\n",
       "4       1            3  2022-23   6.855769\n",
       "5       1            3  2023-24  15.176923\n",
       "6       1            4  2022-23   5.750000\n",
       "7       1            4  2023-24  13.161538\n",
       "8       2            5  2022-23   3.219231\n",
       "9       2            5  2023-24  11.782692\n",
       "10      2            6  2022-23   3.276923\n",
       "11      2            6  2023-24  10.255769\n",
       "12      2            7  2022-23   4.150000\n",
       "13      2            7  2023-24   6.823077\n",
       "14      2            8  2022-23   2.540385\n",
       "15      3            9  2022-23   1.925000\n",
       "16      3           10  2022-23   1.836538\n",
       "17      3           11  2022-23   1.817308\n",
       "18      3           12  2022-23   1.813462\n",
       "19      4           13  2022-23   0.869231\n",
       "20      4           14  2022-23   1.180769\n",
       "21      4           15  2022-23   0.855769\n",
       "22      4           16  2022-23   0.921154\n",
       "23      4           17  2022-23   0.671154\n",
       "24      5           18  2022-23   1.094231\n",
       "25      5           19  2022-23   0.244231\n",
       "26      5           20  2022-23   0.294231\n",
       "27      5           21  2022-23   0.363462\n",
       "28      6           22  2022-23   0.332692\n",
       "29      6           23  2022-23   0.840385\n",
       "30      6           24  2022-23   0.344231\n",
       "31      6           25  2022-23   0.332692\n",
       "32      7           26  2022-23   0.278846\n",
       "33      7           27  2022-23   0.101923\n",
       "34      7           28  2022-23   0.161538\n",
       "35      7           29  2022-23   0.565385\n",
       "36      7           30  2022-23   0.507692\n",
       "37      8           31  2022-23   0.403846\n",
       "38      8           32  2022-23   0.646154\n",
       "39      8           33  2022-23   1.157692\n",
       "40      8           34  2022-23   0.875000\n",
       "41      9           35  2022-23   1.975000\n",
       "42      9           36  2022-23   2.032692\n",
       "43      9           37  2022-23   2.150000\n",
       "44      9           38  2022-23   4.484615\n",
       "45      9           39  2022-23   3.684615\n",
       "46     10           40  2023-24   6.386538\n",
       "47     10           41  2023-24   8.632692\n",
       "48     10           42  2023-24  11.267308\n",
       "49     10           43  2023-24  12.828846\n",
       "50     11           44  2023-24  13.492308\n",
       "51     11           45  2023-24  18.282692\n",
       "52     11           46  2023-24  20.092308\n",
       "53     11           47  2023-24  24.359615\n",
       "54     12           48  2023-24  29.901923\n",
       "55     12           49  2023-24  28.238462\n",
       "56     12           50  2023-24  30.840385\n",
       "57     12           51  2023-24  34.184615\n",
       "58     12           52  2023-24  35.446154"
      ]
     },
     "execution_count": 48,
     "metadata": {},
     "output_type": "execute_result"
    }
   ],
   "source": [
    "df_grouped_season = df.groupby(['month','week_number','season'])['rate'].mean().reset_index()\n",
    "df_grouped_season"
   ]
  },
  {
   "cell_type": "code",
   "execution_count": 49,
   "id": "9f3d5562",
   "metadata": {},
   "outputs": [
    {
     "name": "stderr",
     "output_type": "stream",
     "text": [
      "C:\\Users\\jeanne.chrisanthopou\\AppData\\Local\\Temp\\ipykernel_29752\\1245567171.py:10: FutureWarning: \n",
      "\n",
      "The `ci` parameter is deprecated. Use `errorbar=None` for the same effect.\n",
      "\n",
      "  sns.barplot(data=df_grouped_state_season, x='state', y='rate', hue='season', palette='Set1', linewidth=2.5, ci=None)\n"
     ]
    },
    {
     "data": {
      "image/png": "[encoded data removed]",
      "text/plain": [
       "<Figure size 1200x600 with 1 Axes>"
      ]
     },
     "metadata": {},
     "output_type": "display_data"
    }
   ],
   "source": [
    "#filter to common week numbers\n",
    "df_filtered = df[df['week_number'].isin(common_week_numbers)]\n",
    "\n",
    "# Group by state and season to calculate mean rate\n",
    "df_grouped_state_season = df_filtered.groupby(['state', 'season'])['rate'].mean().reset_index()\n",
    "\n",
    "# Plotting\n",
    "plt.figure(figsize=(12, 6))\n",
    "\n",
    "sns.barplot(data=df_grouped_state_season, x='state', y='rate', hue='season', palette='Set1', linewidth=2.5, ci=None)\n",
    "\n",
    "# Beautify the plot\n",
    "plt.title('Rate by state per season (Common Weeks Only)')\n",
    "plt.xlabel('State')\n",
    "plt.ylabel('Rate')\n",
    "plt.xticks(rotation=45)\n",
    "plt.legend(title='Season')\n",
    "\n",
    "plt.tight_layout()\n",
    "plt.show()"
   ]
  },
  {
   "cell_type": "code",
   "execution_count": null,
   "id": "16f7b66c",
   "metadata": {},
   "outputs": [],
   "source": []
  }
 ],
 "metadata": {
  "kernelspec": {
   "display_name": "Python 3 (ipykernel)",
   "language": "python",
   "name": "python3"
  },
  "language_info": {
   "codemirror_mode": {
    "name": "ipython",
    "version": 3
   },
   "file_extension": ".py",
   "mimetype": "text/x-python",
   "name": "python",
   "nbconvert_exporter": "python",
   "pygments_lexer": "ipython3",
   "version": "3.10.4"
  }
 },
 "nbformat": 4,
 "nbformat_minor": 5
}
